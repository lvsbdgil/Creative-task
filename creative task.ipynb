{
 "cells": [
  {
   "cell_type": "markdown",
   "id": "5134f4c3118a768a",
   "metadata": {},
   "source": [
    "# Что такое \"pygal\" ? \n",
    "Pygal это библиотека для python, которая помогает работать визуализацией данных. Она помогает сторить различные диаграммы в том числе интерактивные, а так же графики. С помощью нее можно создавать круговые, столбчатые, точечные, линейные диаграммы и другие. В ней можно создавать  графики, используя разные стили, цвета и надписи, чтобы сделать их более интерактивными. Pygal позволяет сохранять выходные данные в формате SVG. Она проста и интуитивно понятна."
   ]
  },
  {
   "cell_type": "code",
   "execution_count": 34,
   "id": "7dac186d674e59b1",
   "metadata": {},
   "outputs": [],
   "source": [
    "# пример кода для простой столбчатой диаграммы\n",
    "import pygal\n",
    "\n",
    "chart=pygal.Bar()                                              # выбор столбчатой диаграммы \n",
    "\n",
    "chart.add(\"example\",[1,2,3,4,5,6,7,8,9,10,11,12,13,14,15,16])  # (1: название столбцов, 2: массив)\n",
    "\n",
    "chart.render_to_file(\"classic_chart.svg\")                      # создание файла с получившейся диграммой"
   ]
  },
  {
   "cell_type": "code",
   "execution_count": 35,
   "id": "e001ce4b",
   "metadata": {},
   "outputs": [],
   "source": [
    "# пример кода для столбчатой диаграммы с двумя данными\n",
    "\n",
    "import pygal\n",
    "\n",
    "chart=pygal.Bar()                           # выбор столбчатой диаграммы\n",
    "\n",
    "chart.add(\"example_1\",[0,2,4,6,8,10,12])    # столбцы для первого пункта\n",
    "chart.add(\"example_2\",[1,3,5,7,9,11])       # столбцы для второго пункта\n",
    "\n",
    "chart.render_to_file(\"double_chart.svg\")    # создание файла с получившейся диграммой"
   ]
  },
  {
   "cell_type": "code",
   "execution_count": 36,
   "id": "0fe61d99",
   "metadata": {},
   "outputs": [],
   "source": [
    "# пример кода для горизонтальной столбчатой диаграммы с наслоением и заголовком\n",
    "\n",
    "import pygal\n",
    "\n",
    "chart=pygal.HorizontalStackedBar()                           # выбор горизонтаьной диаграммы \n",
    "\n",
    "chart.add(\"example_1\",[0, 1, 1, 2, 3, 5, 8, 13, 21, 34, 55]) # столбцы для первого пункта \n",
    "chart.add(\"example_2\",[1, 1, 1, 2, 2, 3, 4, 5, 7, 9, 12])    # столбцы для второго пункта\n",
    "\n",
    "chart.render_to_file(\"multi_chart.svg\")                      # создание файла с получившейся диграммой"
   ]
  },
  {
   "cell_type": "code",
   "execution_count": 37,
   "id": "1a859da5",
   "metadata": {},
   "outputs": [],
   "source": [
    "# пример кода для круговой диаграммы \n",
    "\n",
    "import pygal\n",
    "\n",
    "chart=pygal.Pie()                      # выбор круговой диаграммы \n",
    "\n",
    "chart.add(\"example_1\",45)              # создание первого сектора\n",
    "chart.add(\"example_2\",25)              # создание второго сектора\n",
    "chart.add(\"example_3\",15)              # создание третьего сектора\n",
    "chart.add(\"example_4\",15)              # создание четвертого сектора\n",
    "\n",
    "chart.render_to_file(\"Pie_chart.svg\")  # создание файла с получившейся диграммой"
   ]
  }
 ],
 "metadata": {
  "kernelspec": {
   "display_name": "Python 3 (ipykernel)",
   "language": "python",
   "name": "python3"
  },
  "language_info": {
   "codemirror_mode": {
    "name": "ipython",
    "version": 3
   },
   "file_extension": ".py",
   "mimetype": "text/x-python",
   "name": "python",
   "nbconvert_exporter": "python",
   "pygments_lexer": "ipython3",
   "version": "3.11.5"
  }
 },
 "nbformat": 4,
 "nbformat_minor": 5
}
